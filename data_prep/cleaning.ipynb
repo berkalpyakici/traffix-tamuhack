{
 "cells": [
  {
   "cell_type": "code",
   "execution_count": 17,
   "metadata": {
    "collapsed": true,
    "pycharm": {
     "is_executing": false
    }
   },
   "outputs": [],
   "source": [
    "'''\n",
    "Lucas Atayde, Alp Burke\n",
    "\n",
    "File responsible for cleaning up our data pipeline. This will prepare our API to query the\n",
    "data.\n",
    "'''\n",
    "\n",
    "import pandas as pd\n",
    "import numpy as np\n",
    "import matplotlib.pyplot as plt"
   ]
  },
  {
   "cell_type": "code",
   "execution_count": 18,
   "outputs": [],
   "source": [
    "#usaa = pd.read_csv(\"./raw/US_Accidents_Dec19.csv\", skiprows=range( int(2974335 * .30), 2974335))\n",
    "usaa = pd.read_csv(\"./raw/US_Accidents_Dec19.csv\")\n",
    "# usaa = pd.read_csv(\"data_prep/raw/US_Accidents_Dec19.csv\")"
   ],
   "metadata": {
    "collapsed": false,
    "pycharm": {
     "name": "#%%\n",
     "is_executing": false
    }
   }
  },
  {
   "cell_type": "code",
   "execution_count": 19,
   "outputs": [],
   "source": [
    "# Step 1: Convert accident ids to integers\n",
    "usaa[\"ID\"] = usaa[\"ID\"].apply(lambda id: int(id[2:]))\n",
    "\n",
    "# Drop unnecessary data. Makes computation slower and adds noise\n",
    "# Country is the same for ALL.\n",
    "# Source might effect data quality but ehhhh\n",
    "usaa = usaa.drop(columns=[\"Source\", \"Country\"])"
   ],
   "metadata": {
    "collapsed": false,
    "pycharm": {
     "name": "#%%\n",
     "is_executing": false
    }
   }
  },
  {
   "cell_type": "code",
   "execution_count": 20,
   "outputs": [],
   "source": [
    "def make_categorical(frame, col):\n",
    "    # TODO: return dictionary mapping cat codes to values\n",
    "    frame[col] = frame[col].astype(\"category\").cat.codes\n",
    "\n",
    "def fill_normal(frame, col):\n",
    "    '''\n",
    "    INPUT: An incomplete data frame \n",
    "    OUTPUT: A complete data frame filled with random samplings\n",
    "            from the data, assuming it is normal \n",
    "    '''\n",
    "    mean = usaa[col].mean()\n",
    "    std = usaa[col].std()\n",
    "    usaa[col] = usaa[col].apply(lambda val: np.random.normal(mean, std) if np.isnan(val) else val)\n",
    "\n",
    "def num_missing(series):\n",
    "    return series.isnull().sum()\n"
   ],
   "metadata": {
    "collapsed": false,
    "pycharm": {
     "name": "#%% Cleaning utility functions\n",
     "is_executing": false
    }
   }
  },
  {
   "cell_type": "code",
   "execution_count": 21,
   "outputs": [],
   "source": [
    "# Fill in data with normal distribution\n",
    "# TODO: Make this more sophisticated using nearest neighbors?\n",
    "fill_normal(usaa, \"Temperature(F)\")"
   ],
   "metadata": {
    "collapsed": false,
    "pycharm": {
     "name": "#%% Cleaning Temperature\n",
     "is_executing": false
    }
   }
  },
  {
   "cell_type": "code",
   "execution_count": 22,
   "outputs": [],
   "source": [
    "'''\n",
    "TMC codes about traffic? Not exactly sure, will convert to categorical data\n",
    "'''\n",
    "make_categorical(usaa, \"TMC\")"
   ],
   "metadata": {
    "collapsed": false,
    "pycharm": {
     "name": "#%% \n",
     "is_executing": false
    }
   }
  },
  {
   "cell_type": "code",
   "execution_count": 23,
   "outputs": [],
   "source": [
    "# End lat and End long are both pretty much empty / worthless\n",
    "usaa = usaa.drop(columns=\"End_Lng\")\n",
    "usaa = usaa.drop(columns=\"End_Lat\")\n"
   ],
   "metadata": {
    "collapsed": false,
    "pycharm": {
     "name": "#%%\n",
     "is_executing": false
    }
   }
  },
  {
   "cell_type": "code",
   "execution_count": 24,
   "outputs": [
    {
     "name": "stdout",
     "text": [
      "83\n"
     ],
     "output_type": "stream"
    },
    {
     "data": {
      "text/plain": "array(['Dayton', 'Reynoldsburg', 'Williamsburg', ..., 'Paron',\n       'Clarksdale', 'American Fork-Pleasant Grove'], dtype=object)"
     },
     "metadata": {},
     "output_type": "execute_result",
     "execution_count": 24
    }
   ],
   "source": [
    "cat = \"City\"\n",
    "print(num_missing(usaa[cat]))\n",
    "#usaa[cat].hist()\n",
    "usaa[cat].unique()"
   ],
   "metadata": {
    "collapsed": false,
    "pycharm": {
     "name": "#%% \n",
     "is_executing": false
    }
   }
  },
  {
   "cell_type": "code",
   "execution_count": 25,
   "outputs": [
    {
     "data": {
      "text/plain": "0          45424\n1          43068\n2          45176\n3          45417\n4          45459\n           ...  \n2974330    92501\n2974331    92108\n2974332    92866\n2974333    90230\n2974334    92346\nName: Zipcode, Length: 2973372, dtype: object"
     },
     "metadata": {},
     "output_type": "execute_result",
     "execution_count": 25
    }
   ],
   "source": [
    "usaa = usaa.dropna(subset=[\"City\", \"Zipcode\"])\n",
    "\n",
    "# We only want the first five digits of zipcode.\n",
    "usaa[\"Zipcode\"].apply(lambda zip: zip[:5])"
   ],
   "metadata": {
    "collapsed": false,
    "pycharm": {
     "name": "#%% Dropping some of the rows that are missing small amounts of data. We want full address\n",
     "is_executing": false
    }
   }
  },
  {
   "cell_type": "code",
   "execution_count": 26,
   "outputs": [],
   "source": [
    "# Airport code likely isn't important.\n",
    "# We aren't going to worry about timezone either as it pertains to the data\n",
    "usaa = usaa.dropna(subset=[\"Airport_Code\", \"Timezone\"])"
   ],
   "metadata": {
    "collapsed": false,
    "pycharm": {
     "name": "#%%\n",
     "is_executing": false
    }
   }
  },
  {
   "cell_type": "code",
   "execution_count": 27,
   "outputs": [],
   "source": [
    "# For accidents without a weather timestamp we will use the start time of the accident\n",
    "usaa[\"Weather_Timestamp\"] = usaa[\"Weather_Timestamp\"].fillna(usaa[\"Start_Time\"])"
   ],
   "metadata": {
    "collapsed": false,
    "pycharm": {
     "name": "#%%\n",
     "is_executing": false
    }
   }
  },
  {
   "cell_type": "code",
   "execution_count": 28,
   "outputs": [
    {
     "name": "stdout",
     "text": [
      "Humidity(%)\n",
      "Pressure(in)\n",
      "Visibility(mi)\n",
      "Wind_Speed(mph)\n",
      "Precipitation(in)\n"
     ],
     "output_type": "stream"
    },
    {
     "data": {
      "text/plain": "<Figure size 432x288 with 1 Axes>",
      "image/png": "[encoded data removed]"
     },
     "metadata": {
      "needs_background": "light"
     },
     "output_type": "display_data"
    }
   ],
   "source": [
    "# Fill in weather data assuming is is the normal distribution\n",
    "import time\n",
    "normal_list = ['Humidity(%)', 'Pressure(in)', 'Visibility(mi)', 'Wind_Speed(mph)', 'Precipitation(in)']\n",
    "for atr in normal_list:\n",
    "    print(atr)\n",
    "    usaa[atr].hist()\n",
    "    fill_normal(usaa, atr)"
   ],
   "metadata": {
    "collapsed": false,
    "pycharm": {
     "name": "#%%\n",
     "is_executing": false
    }
   }
  },
  {
   "cell_type": "code",
   "execution_count": 29,
   "outputs": [],
   "source": [
    "usaa[\"Wind_Direction\"] = usaa[\"Wind_Direction\"].apply(lambda x: str.upper(x) if isinstance(x, str) else None).fillna(\"CALM\")\n",
    "# TODO: vectorize these."
   ],
   "metadata": {
    "collapsed": false,
    "pycharm": {
     "name": "#%%\n",
     "is_executing": false
    }
   }
  },
  {
   "cell_type": "code",
   "execution_count": 30,
   "outputs": [],
   "source": [
    "usaa = usaa.dropna(subset=[\"Sunrise_Sunset\", \"Civil_Twilight\", \"Nautical_Twilight\", \"Astronomical_Twilight\"])"
   ],
   "metadata": {
    "collapsed": false,
    "pycharm": {
     "name": "#%%\n",
     "is_executing": false
    }
   }
  },
  {
   "cell_type": "code",
   "execution_count": 31,
   "outputs": [],
   "source": [
    "# DATA CLEANING IS COMPLETE! Export to CSV :)\n",
    "usaa.to_csv(\"./clean/cleaned.csv\")\n"
   ],
   "metadata": {
    "collapsed": false,
    "pycharm": {
     "name": "#%%\n",
     "is_executing": false
    }
   }
  }
 ],
 "metadata": {
  "kernelspec": {
   "display_name": "Python 3",
   "language": "python",
   "name": "python3"
  },
  "language_info": {
   "codemirror_mode": {
    "name": "ipython",
    "version": 2
   },
   "file_extension": ".py",
   "mimetype": "text/x-python",
   "name": "python",
   "nbconvert_exporter": "python",
   "pygments_lexer": "ipython2",
   "version": "2.7.6"
  },
  "pycharm": {
   "stem_cell": {
    "cell_type": "raw",
    "source": [],
    "metadata": {
     "collapsed": false
    }
   }
  }
 },
 "nbformat": 4,
 "nbformat_minor": 0
}