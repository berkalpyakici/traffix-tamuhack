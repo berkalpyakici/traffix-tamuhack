{
 "cells": [
  {
   "cell_type": "code",
   "execution_count": 1,
   "metadata": {
    "collapsed": true,
    "pycharm": {
     "is_executing": false
    }
   },
   "outputs": [],
   "source": [
    "'''\n",
    "Lucas Atayde, Alp Burke\n",
    "\n",
    "File responsible for cleaning up our data pipeline. This will prepare our API to query the\n",
    "data.\n",
    "'''\n",
    "\n",
    "import pandas as pd\n",
    "import numpy as np\n",
    "import matplotlib.pyplot as plt"
   ]
  },
  {
   "cell_type": "code",
   "execution_count": 22,
   "outputs": [],
   "source": [
    "usaa = pd.read_csv(\"./raw/US_Accidents_Dec19.csv\", skiprows=range( int(2974335 * .01), 2974335))\n",
    "# usaa = pd.read_csv(\"data_prep/raw/US_Accidents_Dec19.csv\")\n"
   ],
   "metadata": {
    "collapsed": false,
    "pycharm": {
     "name": "#%%\n",
     "is_executing": false
    }
   }
  },
  {
   "cell_type": "code",
   "execution_count": 3,
   "outputs": [],
   "source": [
    "# Step 1: Convert accident ids to integers\n",
    "usaa[\"ID\"] = usaa[\"ID\"].apply(lambda id: int(id[2:]))\n",
    "\n",
    "# Drop unnecessary data. Makes computation slower and adds noise\n",
    "# Country is the same for ALL.\n",
    "# Source might effect data quality but ehhhh\n",
    "usaa = usaa.drop(columns=[\"Source\", \"Country\"])\n"
   ],
   "metadata": {
    "collapsed": false,
    "pycharm": {
     "name": "#%%\n",
     "is_executing": false
    }
   }
  },
  {
   "cell_type": "code",
   "execution_count": 4,
   "outputs": [],
   "source": [
    "# Fill in data with normal distribution\n",
    "# TODO: Make this more sophisticated using nearest neighbors?\n",
    "t_mean = usaa[\"Temperature(F)\"].mean()\n",
    "t_std = usaa[\"Temperature(F)\"].std()\n",
    "usaa[\"Temperature(F)\"] = usaa[\"Temperature(F)\"].apply(lambda val: np.random.normal(t_mean, t_std) if np.isnan(val) else val)"
   ],
   "metadata": {
    "collapsed": false,
    "pycharm": {
     "name": "#%% Cleaning Temperature\n",
     "is_executing": false
    }
   }
  },
  {
   "cell_type": "code",
   "execution_count": 5,
   "outputs": [],
   "source": [
    "def make_categorical(frame, col):\n",
    "    frame[col] = frame[col].astype(\"category\").cat.codes\n",
    "\n",
    "def num_missing(series):\n",
    "    return series.isnull().sum()\n"
   ],
   "metadata": {
    "collapsed": false,
    "pycharm": {
     "name": "#%% Cleaning utility functions\n",
     "is_executing": false
    }
   }
  },
  {
   "cell_type": "code",
   "execution_count": 6,
   "outputs": [],
   "source": [
    "'''\n",
    "TMC codes about traffic? Not exactly sure, will convert to categorical data\n",
    "'''\n",
    "make_categorical(usaa, \"TMC\")\n"
   ],
   "metadata": {
    "collapsed": false,
    "pycharm": {
     "name": "#%% \n",
     "is_executing": false
    }
   }
  },
  {
   "cell_type": "code",
   "execution_count": 7,
   "outputs": [],
   "source": [
    "# End lat and End long are both pretty much empty / worthless\n",
    "usaa = usaa.drop(columns=\"End_Lng\")\n",
    "usaa = usaa.drop(columns=\"End_Lat\")\n"
   ],
   "metadata": {
    "collapsed": false,
    "pycharm": {
     "name": "#%%\n",
     "is_executing": false
    }
   }
  },
  {
   "cell_type": "code",
   "execution_count": 8,
   "outputs": [
    {
     "name": "stdout",
     "text": [
      "0\n"
     ],
     "output_type": "stream"
    },
    {
     "data": {
      "text/plain": "array(['Dayton', 'Reynoldsburg', 'Williamsburg', 'Westerville',\n       'Columbus', 'Miamisburg', 'Johnstown', 'Dublin',\n       'Canal Winchester', 'Lebanon', 'Sabina', 'Goshen', 'Waynesville',\n       'Springboro', 'Carroll', 'Oregonia', 'Independence',\n       'Maple Heights', 'Grove City', 'Findlay', 'Fairborn', 'Piqua',\n       'New Richmond', 'Batavia', 'Galena', 'Barberton', 'Akron',\n       'Mansfield', 'Cleveland', 'Bethel', 'Pataskala', 'Seville',\n       'Bellville', 'Troy', 'Wilmington', 'North Olmsted', 'Groveport',\n       'Orient', 'Tiro', 'Strongsville', 'Beavercreek', 'Circleville',\n       'Peebles', 'Hurricane', 'Xenia', 'Elyria', 'Pickerington',\n       'Burbank', 'Zanesville', 'North Baltimore', 'Mount Sterling',\n       'Tipp City', 'Moraine', 'Hilliard', 'Bowling Green', 'Maineville',\n       'Vermilion', 'Milford', 'Brookpark', 'Fraziers Bottom',\n       'Cambridge', 'Delaware', 'Moscow', 'Oberlin', 'Sardinia',\n       'Lewis Center', 'Urbancrest', 'Brecksville', 'Frankfort',\n       'Blanchester', 'Casstown', 'Lima', 'Amelia', 'Newark',\n       'Springfield', 'Vandalia', 'Galloway', 'Bloomingburg',\n       'Gallipolis', 'Lockbourne', 'Milan', 'Mason', 'Millersport',\n       'New Carlisle', 'Sunbury', 'Owensville', 'London', 'Vallejo',\n       'Hayward', 'Walnut Creek', 'Cupertino', 'San Jose', 'Pleasanton',\n       'San Francisco', 'Orinda', 'Livermore', 'Cotati', 'Concord',\n       'Sunnyvale', 'Sacramento', 'Oakland', 'Alviso', 'Morgan Hill',\n       'Petaluma', 'Martinez', 'Millbrae', 'North Highlands', 'Windsor',\n       'Alamo', 'San Martin', 'Healdsburg', 'Brisbane', 'Palo Alto',\n       'Milpitas', 'Davis', 'Elk Grove', 'Half Moon Bay', 'Menlo Park',\n       'Tracy', 'Carmichael', 'Granite Bay', 'Union City',\n       'Pleasant Hill', 'San Mateo', 'Rancho Cordova', 'Nevada City',\n       'Vacaville', 'Roseville', 'Isleton', 'Lincoln', 'El Dorado',\n       'Corte Madera', 'San Leandro', 'Danville', 'Los Gatos',\n       'Castro Valley', 'Stockton', 'Willits', 'Santa Rosa', 'Los Altos',\n       'Richmond', 'Dixon', 'Nice', 'Antioch', 'Angwin', 'Novato',\n       'Burlingame', 'Sunol', 'Placerville', 'Fairfield', 'Scotts Valley',\n       'Linden', 'Santa Clara', 'San Pablo', 'Pinole', 'Redwood City',\n       'Salinas', 'Soquel', 'Monterey', 'Fremont', 'Hercules', 'Seaside',\n       'Saratoga', 'American Canyon', 'Wilton', 'Pittsburg',\n       'Grass Valley', 'Santa Cruz', 'Lodi', 'Sonoma', 'Auburn',\n       'Orangevale', 'Emeryville', 'South San Francisco', 'Lathrop',\n       'Cameron Park', 'San Bruno', 'Modesto', 'Berkeley', 'Gilroy',\n       'Escalon', 'Byron', 'Penryn', 'Citrus Heights', 'El Dorado Hills',\n       'El Cerrito', 'Suisun City', 'Fair Oaks', 'Napa', 'Colfax',\n       'Rocklin', 'Mather', 'Mill Valley', 'San Carlos', 'Aptos',\n       'San Ramon', 'Woodland', 'Loomis', 'Folsom', 'Walnut Grove',\n       'Rodeo', 'San Lorenzo', 'Sausalito', 'Portola Valley',\n       'Pope Valley', 'Manteca', 'Daly City', 'Mokelumne Hill',\n       'Occidental', 'Newcastle', 'Guerneville', 'Calistoga', 'Galt',\n       'Crockett', 'Glen Ellen', 'Rohnert Park', 'Jackson', 'Ripon',\n       'Lafayette', 'Fulton', 'Sebastopol', 'San Quentin', 'Forestville',\n       'Hollister', 'West Sacramento', 'Angels Camp', 'Acampo',\n       'Valley Springs', 'Delhi', 'Shingle Springs', 'Ione', 'Yountville',\n       'French Camp', 'Meadow Vista', 'Penn Valley', 'San Rafael',\n       'Herald', 'Castroville', 'Camino', 'The Sea Ranch', 'Ben Lomond',\n       'Moss Landing', 'Aromas', 'Elverta', 'Soledad', 'Yuba City',\n       'Dos Palos', 'Salida', 'Lucerne', 'Antelope', 'Rio Linda',\n       'Benicia', 'Lower Lake', 'Winters', 'Oakdale', 'Turlock',\n       'Belmont', 'Boulder Creek', 'Carmel', 'Mountain View',\n       'Royal Oaks', 'Foresthill', 'Mendota', 'Keyes', 'Firebaugh',\n       'Monte Rio', 'Campbell', 'Larkspur', 'Nicasio', 'Bodega Bay',\n       'Brentwood', 'San Gregorio', 'El Sobrante', 'Travis Afb', 'Newman',\n       'Kelseyville', 'Carmel Valley', 'Meridian', 'Capitola', 'Lakeport',\n       'Rumsey', 'Middletown', 'Georgetown', 'Biggs', 'Waterford',\n       'Nicolaus', 'Gonzales', 'Greenbrae', 'Patterson', 'Rio Vista',\n       'Dunnigan', 'Copperopolis', 'Alta', 'Willows', 'Marysville',\n       'Winton', 'Hilmar', 'Ukiah', 'Penngrove', 'Clarksburg', 'Esparto',\n       'McClellan', 'Garden Valley', 'Oroville', 'Pacifica', 'Los Banos',\n       'La Grange', 'Arbuckle', 'San Juan Bautista', 'Geyserville',\n       'Jenner', 'Stanford', 'Oregon House', 'San Andreas', 'Dobbins',\n       'Brooks', 'Sloughhouse', 'Pollock Pines', 'Hopland',\n       'Discovery Bay', 'Ceres', 'Bay Point', 'Rescue', 'Mcclellan',\n       'Little River', 'Watsonville', 'Emerald Hills', 'Diamond Springs',\n       'Felton', 'Cool', 'Pine Grove', 'Upper Lake', 'Clearlake Oaks',\n       'Woodside', 'Atwater', 'Sutter Creek', 'Lockeford', 'Coyote',\n       'Pescadero', 'La Honda', 'Pioneer', 'Lotus', 'Gustine', 'Ballico',\n       'Cloverdale', 'Fairfax', 'Plymouth', 'Port Costa', 'Smartsville',\n       'Saint Helena', 'Mount Hamilton', 'North San Juan', 'Courtland',\n       'Monte Sereno', 'Applegate', 'Freedom', 'Mountain Ranch', 'Merced',\n       'Clearlake', 'Graton', 'Pacheco', 'Maxwell', 'Kentfield',\n       'Stevinson', 'Somerset', 'Capay', 'Hughson', 'Yorkville',\n       'Clayton', 'Crows Landing', 'Belvedere Tiburon', 'Farmington',\n       'Rough and Ready', 'Zamora', 'Gualala', 'Marina', 'Emigrant Gap',\n       'Rough And Ready', 'Point Reyes Station', 'Southeast Marin',\n       'Soda Springs', 'Moss Beach', 'Vernalis', 'Redwood Valley',\n       'Pebble Beach', 'Williams', 'Dutch Flat', 'Paicines', 'Oakley',\n       'Browns Valley', 'Sutter', 'Gold River', 'Downieville',\n       'Fort Bragg', 'Birds Landing', 'Fiddletown', 'Annapolis',\n       'Rancho Murieta', 'Big Sur', 'Muir Beach', 'Norden', 'Sierra City',\n       'Livingston', 'Jamestown', 'Gridley', 'Pleasant Grove',\n       'Davenport', 'Bodega', 'Sheridan', 'Alameda', 'Gold Run',\n       'Olivehurst', 'Denair', 'Colusa', 'Marshall', 'Valley Ford',\n       'Volcano', 'Kenwood', 'Potter Valley', 'Comptche', 'Cazadero',\n       'Camptonville', 'Wheatland', 'Challenge', 'Pilot Hill', 'Chualar',\n       'Grizzly Flats', 'Stonyford', 'Mendocino', 'Princeton',\n       'Woodbridge', 'Butte City', 'Bolinas', 'Madison', 'Tomales',\n       'Glenhaven', 'Palermo', 'Woodacre', 'Montara', 'Inverness',\n       'Greenwood', 'Glenn', 'Albion', 'Hickman', 'Atherton', 'Albany',\n       'Highland'], dtype=object)"
     },
     "metadata": {},
     "output_type": "execute_result",
     "execution_count": 8
    }
   ],
   "source": [
    "cat = \"City\"\n",
    "print(num_missing(usaa[cat]))\n",
    "#usaa[cat].hist()\n",
    "usaa[cat].unique()"
   ],
   "metadata": {
    "collapsed": false,
    "pycharm": {
     "name": "#%% \n",
     "is_executing": false
    }
   }
  },
  {
   "cell_type": "code",
   "execution_count": 24,
   "outputs": [
    {
     "data": {
      "text/plain": "0             45424\n1        43068-3402\n2             45176\n3             45417\n4             45459\n            ...    \n29738         94578\n29739         94580\n29740         95012\n29741    95020-9510\n29742         92346\nName: Zipcode, Length: 29738, dtype: object"
     },
     "metadata": {},
     "output_type": "execute_result",
     "execution_count": 24
    }
   ],
   "source": [
    "usaa = usaa.dropna(subset=[\"City\", \"Zipcode\"])\n",
    "\n",
    "# We only want the first five digits of zipcode.\n",
    "usaa[\"Zipcode\"].apply(lambda zip: zip[:5])\n"
   ],
   "metadata": {
    "collapsed": false,
    "pycharm": {
     "name": "#%% Dropping some of the rows that are missing small amounts of data. We want full address\n",
     "is_executing": false
    }
   }
  }
 ],
 "metadata": {
  "kernelspec": {
   "display_name": "Python 3",
   "language": "python",
   "name": "python3"
  },
  "language_info": {
   "codemirror_mode": {
    "name": "ipython",
    "version": 2
   },
   "file_extension": ".py",
   "mimetype": "text/x-python",
   "name": "python",
   "nbconvert_exporter": "python",
   "pygments_lexer": "ipython2",
   "version": "2.7.6"
  },
  "pycharm": {
   "stem_cell": {
    "cell_type": "raw",
    "source": [],
    "metadata": {
     "collapsed": false
    }
   }
  }
 },
 "nbformat": 4,
 "nbformat_minor": 0
}