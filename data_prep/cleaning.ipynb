{
 "cells": [
  {
   "cell_type": "code",
   "execution_count": 1,
   "metadata": {
    "collapsed": true,
    "pycharm": {
     "is_executing": false
    }
   },
   "outputs": [],
   "source": [
    "'''\n",
    "Lucas Atayde, Alp Burke\n",
    "\n",
    "File responsible for cleaning up our data pipeline. This will prepare our API to query the\n",
    "data.\n",
    "'''\n",
    "\n",
    "import pandas as pd\n",
    "import numpy as np\n",
    "import matplotlib.pyplot as plt"
   ]
  },
  {
   "cell_type": "code",
   "execution_count": null,
   "outputs": [],
   "source": [
    "usaa = pd.read_csv(\"data_prep/raw/US_Accidents_Dec19.csv\", skiprows=range( int(2974335 * .01), 2974335))\n",
    "# usaa = pd.read_csv(\"data_prep/raw/US_Accidents_Dec19.csv\")\n",
    "\n",
    "# Step 1: Convert accident ids to integers\n",
    "usaa[\"ID\"] = usaa[\"ID\"].apply(lambda id: int(id[2:]))\n",
    "\n",
    "# Drop unnecessary data. Makes computation slower and adds noise\n",
    "# Country is the same for ALL.\n",
    "# Source might effect data quality but ehhhh\n",
    "usaa = usaa.drop(columns=[\"Source\", \"Country\"])\n",
    "\n",
    "\n",
    "# Fill in data with random averages, etc\n",
    "# TODO: Make this more sophisticated using nearest neighbors?\n",
    "t_mean = usaa[\"Temperature(F)\"].mean()\n",
    "t_std = usaa[\"Temperature(F)\"].std()\n",
    "usaa[\"Temperature(F)\"] = usaa[\"Temperature(F)\"].fillna(lambda x: np.random.normal(t_mean, t_std))\n",
    "\n",
    "\n",
    "\n",
    "\n",
    "\n",
    "\n",
    "\n",
    "\n",
    "\n"
   ],
   "metadata": {
    "collapsed": false,
    "pycharm": {
     "name": "#%%\n"
    }
   }
  }
 ],
 "metadata": {
  "kernelspec": {
   "display_name": "Python 3",
   "language": "python",
   "name": "python3"
  },
  "language_info": {
   "codemirror_mode": {
    "name": "ipython",
    "version": 2
   },
   "file_extension": ".py",
   "mimetype": "text/x-python",
   "name": "python",
   "nbconvert_exporter": "python",
   "pygments_lexer": "ipython2",
   "version": "2.7.6"
  },
  "pycharm": {
   "stem_cell": {
    "cell_type": "raw",
    "source": [],
    "metadata": {
     "collapsed": false
    }
   }
  }
 },
 "nbformat": 4,
 "nbformat_minor": 0
}