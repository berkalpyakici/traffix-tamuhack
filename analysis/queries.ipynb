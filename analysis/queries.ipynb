{
 "cells": [
  {
   "cell_type": "code",
   "execution_count": 11,
   "metadata": {
    "collapsed": true,
    "pycharm": {
     "is_executing": false,
     "name": "#%%\n"
    }
   },
   "outputs": [],
   "source": [
    "import pandas as pd\n",
    "from collections import defaultdict\n",
    "import json"
   ]
  },
  {
   "cell_type": "code",
   "execution_count": 17,
   "outputs": [],
   "source": [
    "#full = pd.read_csv(\"../data_prep/clean/cleaned.csv\", skiprows=range( int(2974335 * .001), 2974335))\n",
    "full = pd.read_csv(\"../data_prep/clean/cleaned.csv\")"
   ],
   "metadata": {
    "collapsed": false,
    "pycharm": {
     "name": "#%%\n",
     "is_executing": false
    }
   }
  },
  {
   "cell_type": "code",
   "execution_count": 3,
   "outputs": [],
   "source": [
    "# Question: Which state has the worst drivers?\n",
    "# Quantized by crashed per capita\n",
    "# Data Source: https://www.census.gov/data/datasets/time-series/demo/popest/2010s-state-total.html#par_textimage_1873399417\n",
    "# Population, Population Change, and Estimated Components of Population Change: April 1, 2010 to July 1, 2019 (NST-EST2019-alldata)\n",
    "pop = pd.read_csv(\"../data_prep/other_sources/population_by_state.csv\")\n",
    "\n",
    "\n",
    "state_counts = defaultdict(int)\n",
    "for k,v in full[\"State\"].value_counts().to_dict().items():\n",
    "    state_counts[k] = v\n",
    "\n",
    "state_code = pop[\"STATECODE\"]\n",
    "# POPESTIMATE MEAN\n",
    "cols = [f\"POPESTIMATE{x}\" for x in [2016, 2017, 2018, 2019]] \n",
    "pop[\"4yrpopsum\"] = pop[cols].sum(axis=1)\n",
    "# Over 4 years how many people lived in each state\n",
    "state_info = pop[\"4yrpopsum\"]\n",
    "# Contains a list of all the state abbreviations\n",
    "state_code\n",
    "# State counts maps state code to number of accidents\n",
    "state_counts\n",
    "# Maps all abbreviations to the number of accidents\n",
    "counts = state_code.apply(lambda code: state_counts.get(code)).fillna(1)\n",
    "state_info\n",
    "\n",
    "# Contains chart of accidents per capita\n",
    "worst_drivers = pd.DataFrame(counts / state_info, columns=[\"AccidentPC\"])\n",
    "worst_drivers[\"State\"] = state_code\n",
    "\n",
    "worst_drivers = worst_drivers[worst_drivers.State != \"NAN\"].sort_values(\"AccidentPC\", ascending=False)"
   ],
   "metadata": {
    "collapsed": false,
    "pycharm": {
     "name": "#%%\n",
     "is_executing": false
    }
   }
  },
  {
   "cell_type": "code",
   "execution_count": 7,
   "outputs": [],
   "source": [
    "worst_drivers\n",
    "worst_drivers.to_csv(\"./worst_drivers_state_per_capita.csv\")"
   ],
   "metadata": {
    "collapsed": false,
    "pycharm": {
     "name": "#%%\n",
     "is_executing": false
    }
   }
  },
  {
   "cell_type": "code",
   "execution_count": 47,
   "outputs": [
    {
     "traceback": [
      "\u001b[0;31m---------------------------------------------------------------------------\u001b[0m",
      "\u001b[0;31mAttributeError\u001b[0m                            Traceback (most recent call last)",
      "\u001b[0;32m<ipython-input-47-e8212ac69e5d>\u001b[0m in \u001b[0;36m<module>\u001b[0;34m\u001b[0m\n\u001b[1;32m      1\u001b[0m \u001b[0;31m# Per state number of crashes\u001b[0m\u001b[0;34m\u001b[0m\u001b[0;34m\u001b[0m\u001b[0;34m\u001b[0m\u001b[0m\n\u001b[0;32m----> 2\u001b[0;31m \u001b[0mfull\u001b[0m\u001b[0;34m[\u001b[0m\u001b[0;34m\"Roundabout\"\u001b[0m\u001b[0;34m]\u001b[0m\u001b[0;34m.\u001b[0m\u001b[0mgroupby\u001b[0m\u001b[0;34m(\u001b[0m\u001b[0mfull\u001b[0m\u001b[0;34m.\u001b[0m\u001b[0mState\u001b[0m\u001b[0;34m)\u001b[0m\u001b[0;34m.\u001b[0m\u001b[0mastype\u001b[0m\u001b[0;34m(\u001b[0m\u001b[0mint\u001b[0m\u001b[0;34m)\u001b[0m\u001b[0;34m.\u001b[0m\u001b[0msum\u001b[0m\u001b[0;34m(\u001b[0m\u001b[0;34m)\u001b[0m\u001b[0;34m\u001b[0m\u001b[0;34m\u001b[0m\u001b[0m\n\u001b[0m\u001b[1;32m      3\u001b[0m \u001b[0;31m#full.groupby(\"State\").value_counts()\u001b[0m\u001b[0;34m\u001b[0m\u001b[0;34m\u001b[0m\u001b[0;34m\u001b[0m\u001b[0m\n\u001b[1;32m      4\u001b[0m \u001b[0;34m\u001b[0m\u001b[0m\n",
      "\u001b[0;32m~/Documents/code/hackathons/tamuhack2020/traffix-tamuhack/venv/lib/python3.7/site-packages/pandas/core/groupby/groupby.py\u001b[0m in \u001b[0;36m__getattr__\u001b[0;34m(self, attr)\u001b[0m\n\u001b[1;32m    561\u001b[0m             \u001b[0;32mreturn\u001b[0m \u001b[0mself\u001b[0m\u001b[0;34m[\u001b[0m\u001b[0mattr\u001b[0m\u001b[0;34m]\u001b[0m\u001b[0;34m\u001b[0m\u001b[0;34m\u001b[0m\u001b[0m\n\u001b[1;32m    562\u001b[0m         \u001b[0;32mif\u001b[0m \u001b[0mhasattr\u001b[0m\u001b[0;34m(\u001b[0m\u001b[0mself\u001b[0m\u001b[0;34m.\u001b[0m\u001b[0mobj\u001b[0m\u001b[0;34m,\u001b[0m \u001b[0mattr\u001b[0m\u001b[0;34m)\u001b[0m\u001b[0;34m:\u001b[0m\u001b[0;34m\u001b[0m\u001b[0;34m\u001b[0m\u001b[0m\n\u001b[0;32m--> 563\u001b[0;31m             \u001b[0;32mreturn\u001b[0m \u001b[0mself\u001b[0m\u001b[0;34m.\u001b[0m\u001b[0m_make_wrapper\u001b[0m\u001b[0;34m(\u001b[0m\u001b[0mattr\u001b[0m\u001b[0;34m)\u001b[0m\u001b[0;34m\u001b[0m\u001b[0;34m\u001b[0m\u001b[0m\n\u001b[0m\u001b[1;32m    564\u001b[0m \u001b[0;34m\u001b[0m\u001b[0m\n\u001b[1;32m    565\u001b[0m         raise AttributeError(\n",
      "\u001b[0;32m~/Documents/code/hackathons/tamuhack2020/traffix-tamuhack/venv/lib/python3.7/site-packages/pandas/core/groupby/groupby.py\u001b[0m in \u001b[0;36m_make_wrapper\u001b[0;34m(self, name)\u001b[0m\n\u001b[1;32m    602\u001b[0m                 \u001b[0;34m\"using the 'apply' method\"\u001b[0m\u001b[0;34m.\u001b[0m\u001b[0mformat\u001b[0m\u001b[0;34m(\u001b[0m\u001b[0mkind\u001b[0m\u001b[0;34m,\u001b[0m \u001b[0mname\u001b[0m\u001b[0;34m,\u001b[0m \u001b[0mtype\u001b[0m\u001b[0;34m(\u001b[0m\u001b[0mself\u001b[0m\u001b[0;34m)\u001b[0m\u001b[0;34m.\u001b[0m\u001b[0m__name__\u001b[0m\u001b[0;34m)\u001b[0m\u001b[0;34m\u001b[0m\u001b[0;34m\u001b[0m\u001b[0m\n\u001b[1;32m    603\u001b[0m             )\n\u001b[0;32m--> 604\u001b[0;31m             \u001b[0;32mraise\u001b[0m \u001b[0mAttributeError\u001b[0m\u001b[0;34m(\u001b[0m\u001b[0mmsg\u001b[0m\u001b[0;34m)\u001b[0m\u001b[0;34m\u001b[0m\u001b[0;34m\u001b[0m\u001b[0m\n\u001b[0m\u001b[1;32m    605\u001b[0m \u001b[0;34m\u001b[0m\u001b[0m\n\u001b[1;32m    606\u001b[0m         \u001b[0mself\u001b[0m\u001b[0;34m.\u001b[0m\u001b[0m_set_group_selection\u001b[0m\u001b[0;34m(\u001b[0m\u001b[0;34m)\u001b[0m\u001b[0;34m\u001b[0m\u001b[0;34m\u001b[0m\u001b[0m\n",
      "\u001b[0;31mAttributeError\u001b[0m: Cannot access callable attribute 'astype' of 'SeriesGroupBy' objects, try using the 'apply' method"
     ],
     "ename": "AttributeError",
     "evalue": "Cannot access callable attribute 'astype' of 'SeriesGroupBy' objects, try using the 'apply' method",
     "output_type": "error"
    }
   ],
   "source": [
    "# Per state number of crashes\n",
    "#full[\"Roundabout\"].groupby(full.State).astype(int).sum()\n",
    "#full.groupby(\"State\").value_counts()"
   ],
   "metadata": {
    "collapsed": false,
    "pycharm": {
     "name": "#%% Which state gets in the most accidents at roundabouts?\n",
     "is_executing": false
    }
   }
  },
  {
   "cell_type": "code",
   "execution_count": 15,
   "outputs": [],
   "source": [
    "def make_point(lat, long, severity, time):\n",
    "    time_split = time.split(' ')\n",
    "    point =  {\n",
    "          \"geometry\": {\n",
    "            \"type\": \"Point\",\n",
    "            \"coordinates\": [\n",
    "              long,\n",
    "              lat\n",
    "            ]\n",
    "          },\n",
    "          \"type\": \"Feature\",\n",
    "          \"id\": \"2\",\n",
    "          \"properties\": {\n",
    "            \"severity\": severity,\n",
    "            \"date\": time_split[0],\n",
    "            \"h\": time_split[1][:2]\n",
    "          }\n",
    "        }\n",
    "    return point\n",
    "\n",
    "\n",
    "\n"
   ],
   "metadata": {
    "collapsed": false,
    "pycharm": {
     "name": "#%% Basic Data\n",
     "is_executing": false
    }
   }
  },
  {
   "cell_type": "code",
   "execution_count": 18,
   "outputs": [
    {
     "name": "stdout",
     "text": [
      "OH\n",
      "WV\n",
      "CA\n",
      "FL\n",
      "GA\n",
      "SC\n",
      "NE\n",
      "IA\n",
      "IL\n",
      "MO\n",
      "WI\n",
      "IN\n",
      "MI\n",
      "NJ\n",
      "NY\n",
      "CT\n",
      "MA\n",
      "RI\n",
      "NH\n",
      "PA\n",
      "KY\n",
      "MD\n",
      "VA\n",
      "DC\n",
      "DE\n",
      "TX\n",
      "WA\n",
      "OR\n",
      "AL\n",
      "NC\n",
      "MN\n",
      "OK\n",
      "LA\n",
      "TN\n",
      "UT\n",
      "CO\n",
      "AZ\n",
      "NV\n",
      "KS\n",
      "MS\n",
      "NM\n",
      "ME\n",
      "AR\n",
      "WY\n",
      "VT\n",
      "ID\n",
      "ND\n",
      "MT\n",
      "SD\n"
     ],
     "output_type": "stream"
    }
   ],
   "source": [
    "# def generate_state_data():\n",
    "#     \"\"\"\n",
    "#     INPUT: A fully populated table with all accident data\n",
    "#     OUTPUT: Fills \"state_crash_viz\" with 50 json files containing all the points for each state\n",
    "#     \"\"\"\n",
    "all_states = list(full.State.unique())\n",
    "all = pd.DataFrame(full[[\"Start_Lat\", \"Start_Lng\", \"Severity\", \"Start_Time\"]]\\\n",
    "    .apply(lambda row: make_point(row[0], row[1], row[2], row[3]), axis=1))\n",
    "all[\"State\"] = full.State\n",
    "\n",
    "for state in all[\"State\"].unique():\n",
    "    print(state)\n",
    "    st_data = all[all.State == state]\n",
    "    st_dict = {\n",
    "        \"type\": \"FeatureCollection\",\n",
    "    }\n",
    "    feat = []\n",
    "    for p in list(st_data[0]):\n",
    "        feat.append(p)\n",
    "    st_dict[\"features\"] = feat\n",
    "    \n",
    "    with open(f'./state_crash_viz/{state}.json', 'w') as fp:\n",
    "        json.dump(st_dict, fp)\n",
    "        \n",
    "    "
   ],
   "metadata": {
    "collapsed": false,
    "pycharm": {
     "name": "#%%\n",
     "is_executing": false
    }
   }
  },
  {
   "cell_type": "code",
   "execution_count": null,
   "outputs": [],
   "source": [
    "\n",
    "\n",
    "\n",
    " \n",
    "\n",
    "    \n"
   ],
   "metadata": {
    "collapsed": false,
    "pycharm": {
     "name": "#%% How many accidents occur at over 60 mph?\n"
    }
   }
  }
 ],
 "metadata": {
  "kernelspec": {
   "display_name": "Python 3",
   "language": "python",
   "name": "python3"
  },
  "language_info": {
   "codemirror_mode": {
    "name": "ipython",
    "version": 2
   },
   "file_extension": ".py",
   "mimetype": "text/x-python",
   "name": "python",
   "nbconvert_exporter": "python",
   "pygments_lexer": "ipython2",
   "version": "2.7.6"
  },
  "pycharm": {
   "stem_cell": {
    "cell_type": "raw",
    "source": [],
    "metadata": {
     "collapsed": false
    }
   }
  }
 },
 "nbformat": 4,
 "nbformat_minor": 0
}