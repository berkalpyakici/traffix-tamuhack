{
 "cells": [
  {
   "cell_type": "code",
   "execution_count": 39,
   "metadata": {
    "collapsed": true,
    "pycharm": {
     "is_executing": false,
     "name": "#%%\n"
    }
   },
   "outputs": [],
   "source": [
    "import pandas as pd\n",
    "from collections import defaultdict\n",
    "import json"
   ]
  },
  {
   "cell_type": "code",
   "execution_count": 40,
   "outputs": [],
   "source": [
    "# full = pd.read_csv(\"../data_prep/clean/cleaned.csv\", skiprows=range( int(2974335 * .001), 2974335))\n",
    "full = pd.read_csv(\"../data_prep/clean/cleaned.csv\")"
   ],
   "metadata": {
    "collapsed": false,
    "pycharm": {
     "name": "#%%\n",
     "is_executing": false
    }
   }
  },
  {
   "cell_type": "code",
   "execution_count": 41,
   "outputs": [],
   "source": [
    "# Question: Which state has the worst drivers?\n",
    "# Quantized by crashed per capita\n",
    "# Data Source: https://www.census.gov/data/datasets/time-series/demo/popest/2010s-state-total.html#par_textimage_1873399417\n",
    "# Population, Population Change, and Estimated Components of Population Change: April 1, 2010 to July 1, 2019 (NST-EST2019-alldata)\n",
    "pop = pd.read_csv(\"../data_prep/other_sources/population_by_state.csv\")\n",
    "\n",
    "\n",
    "state_counts = defaultdict(int)\n",
    "for k,v in full[\"State\"].value_counts().to_dict().items():\n",
    "    state_counts[k] = v\n",
    "\n",
    "state_code = pop[\"STATECODE\"]\n",
    "# POPESTIMATE MEAN\n",
    "cols = [f\"POPESTIMATE{x}\" for x in [2016, 2017, 2018, 2019]] \n",
    "pop[\"4yrpopsum\"] = pop[cols].sum(axis=1)\n",
    "# Over 4 years how many people lived in each state\n",
    "state_info = pop[\"4yrpopsum\"]\n",
    "# Contains a list of all the state abbreviations\n",
    "state_code\n",
    "# State counts maps state code to number of accidents\n",
    "state_counts\n",
    "# Maps all abbreviations to the number of accidents\n",
    "counts = state_code.apply(lambda code: state_counts.get(code)).fillna(1)\n",
    "state_info\n",
    "\n",
    "# Contains chart of accidents per capita\n",
    "worst_drivers = pd.DataFrame(counts / state_info, columns=[\"AccidentPC\"])\n",
    "worst_drivers[\"State\"] = state_code\n",
    "\n",
    "worst_drivers = worst_drivers[worst_drivers.State != \"NAN\"].sort_values(\"AccidentPC\", ascending=False)"
   ],
   "metadata": {
    "collapsed": false,
    "pycharm": {
     "name": "#%%\n",
     "is_executing": false
    }
   }
  },
  {
   "cell_type": "code",
   "execution_count": 42,
   "outputs": [
    {
     "data": {
      "text/plain": "      AccidentPC State\n45  7.188613e-03    SC\n42  4.212232e-03    OR\n9   4.209444e-03    CA\n38  3.449833e-03    NC\n49  3.288324e-03    UT\n41  3.255949e-03    OK\n32  2.929734e-03    NE\n23  2.812376e-03    LA\n28  2.808122e-03    MN\n14  2.650122e-03    FL\n48  2.618167e-03    TX\n44  2.478197e-03    RI\n51  2.286902e-03    VA\n27  2.223157e-03    MI\n7   2.192787e-03    AZ\n47  2.162407e-03    TN\n52  2.054902e-03    WA\n15  1.998529e-03    GA\n5   1.862268e-03    AL\n25  1.788775e-03    MD\n10  1.775266e-03    CO\n43  1.766367e-03    PA\n37  1.761635e-03    NY\n18  1.693975e-03    IL\n11  1.595927e-03    CT\n35  1.405760e-03    NJ\n34  1.306374e-03    NH\n26  1.202322e-03    MA\n40  1.197163e-03    OH\n30  1.186405e-03    MO\n12  1.153190e-03    DE\n19  1.124060e-03    IN\n22  1.073051e-03    KY\n20  8.225588e-04    IA\n33  7.939998e-04    NV\n54  7.578262e-04    WI\n36  5.995473e-04    NM\n21  5.913656e-04    KS\n29  4.992619e-04    MS\n24  3.849175e-04    ME\n53  3.138948e-04    WV\n17  2.532541e-04    ID\n50  2.343423e-04    VT\n55  2.121141e-04    WY\n8   1.451892e-04    AR\n31  1.193525e-04    MT\n46  1.714667e-05    SD\n39  1.419368e-05    ND\n6   3.392314e-07    AK\n16  1.757958e-07    HI",
      "text/html": "<div>\n<style scoped>\n    .dataframe tbody tr th:only-of-type {\n        vertical-align: middle;\n    }\n\n    .dataframe tbody tr th {\n        vertical-align: top;\n    }\n\n    .dataframe thead th {\n        text-align: right;\n    }\n</style>\n<table border=\"1\" class=\"dataframe\">\n  <thead>\n    <tr style=\"text-align: right;\">\n      <th></th>\n      <th>AccidentPC</th>\n      <th>State</th>\n    </tr>\n  </thead>\n  <tbody>\n    <tr>\n      <th>45</th>\n      <td>7.188613e-03</td>\n      <td>SC</td>\n    </tr>\n    <tr>\n      <th>42</th>\n      <td>4.212232e-03</td>\n      <td>OR</td>\n    </tr>\n    <tr>\n      <th>9</th>\n      <td>4.209444e-03</td>\n      <td>CA</td>\n    </tr>\n    <tr>\n      <th>38</th>\n      <td>3.449833e-03</td>\n      <td>NC</td>\n    </tr>\n    <tr>\n      <th>49</th>\n      <td>3.288324e-03</td>\n      <td>UT</td>\n    </tr>\n    <tr>\n      <th>41</th>\n      <td>3.255949e-03</td>\n      <td>OK</td>\n    </tr>\n    <tr>\n      <th>32</th>\n      <td>2.929734e-03</td>\n      <td>NE</td>\n    </tr>\n    <tr>\n      <th>23</th>\n      <td>2.812376e-03</td>\n      <td>LA</td>\n    </tr>\n    <tr>\n      <th>28</th>\n      <td>2.808122e-03</td>\n      <td>MN</td>\n    </tr>\n    <tr>\n      <th>14</th>\n      <td>2.650122e-03</td>\n      <td>FL</td>\n    </tr>\n    <tr>\n      <th>48</th>\n      <td>2.618167e-03</td>\n      <td>TX</td>\n    </tr>\n    <tr>\n      <th>44</th>\n      <td>2.478197e-03</td>\n      <td>RI</td>\n    </tr>\n    <tr>\n      <th>51</th>\n      <td>2.286902e-03</td>\n      <td>VA</td>\n    </tr>\n    <tr>\n      <th>27</th>\n      <td>2.223157e-03</td>\n      <td>MI</td>\n    </tr>\n    <tr>\n      <th>7</th>\n      <td>2.192787e-03</td>\n      <td>AZ</td>\n    </tr>\n    <tr>\n      <th>47</th>\n      <td>2.162407e-03</td>\n      <td>TN</td>\n    </tr>\n    <tr>\n      <th>52</th>\n      <td>2.054902e-03</td>\n      <td>WA</td>\n    </tr>\n    <tr>\n      <th>15</th>\n      <td>1.998529e-03</td>\n      <td>GA</td>\n    </tr>\n    <tr>\n      <th>5</th>\n      <td>1.862268e-03</td>\n      <td>AL</td>\n    </tr>\n    <tr>\n      <th>25</th>\n      <td>1.788775e-03</td>\n      <td>MD</td>\n    </tr>\n    <tr>\n      <th>10</th>\n      <td>1.775266e-03</td>\n      <td>CO</td>\n    </tr>\n    <tr>\n      <th>43</th>\n      <td>1.766367e-03</td>\n      <td>PA</td>\n    </tr>\n    <tr>\n      <th>37</th>\n      <td>1.761635e-03</td>\n      <td>NY</td>\n    </tr>\n    <tr>\n      <th>18</th>\n      <td>1.693975e-03</td>\n      <td>IL</td>\n    </tr>\n    <tr>\n      <th>11</th>\n      <td>1.595927e-03</td>\n      <td>CT</td>\n    </tr>\n    <tr>\n      <th>35</th>\n      <td>1.405760e-03</td>\n      <td>NJ</td>\n    </tr>\n    <tr>\n      <th>34</th>\n      <td>1.306374e-03</td>\n      <td>NH</td>\n    </tr>\n    <tr>\n      <th>26</th>\n      <td>1.202322e-03</td>\n      <td>MA</td>\n    </tr>\n    <tr>\n      <th>40</th>\n      <td>1.197163e-03</td>\n      <td>OH</td>\n    </tr>\n    <tr>\n      <th>30</th>\n      <td>1.186405e-03</td>\n      <td>MO</td>\n    </tr>\n    <tr>\n      <th>12</th>\n      <td>1.153190e-03</td>\n      <td>DE</td>\n    </tr>\n    <tr>\n      <th>19</th>\n      <td>1.124060e-03</td>\n      <td>IN</td>\n    </tr>\n    <tr>\n      <th>22</th>\n      <td>1.073051e-03</td>\n      <td>KY</td>\n    </tr>\n    <tr>\n      <th>20</th>\n      <td>8.225588e-04</td>\n      <td>IA</td>\n    </tr>\n    <tr>\n      <th>33</th>\n      <td>7.939998e-04</td>\n      <td>NV</td>\n    </tr>\n    <tr>\n      <th>54</th>\n      <td>7.578262e-04</td>\n      <td>WI</td>\n    </tr>\n    <tr>\n      <th>36</th>\n      <td>5.995473e-04</td>\n      <td>NM</td>\n    </tr>\n    <tr>\n      <th>21</th>\n      <td>5.913656e-04</td>\n      <td>KS</td>\n    </tr>\n    <tr>\n      <th>29</th>\n      <td>4.992619e-04</td>\n      <td>MS</td>\n    </tr>\n    <tr>\n      <th>24</th>\n      <td>3.849175e-04</td>\n      <td>ME</td>\n    </tr>\n    <tr>\n      <th>53</th>\n      <td>3.138948e-04</td>\n      <td>WV</td>\n    </tr>\n    <tr>\n      <th>17</th>\n      <td>2.532541e-04</td>\n      <td>ID</td>\n    </tr>\n    <tr>\n      <th>50</th>\n      <td>2.343423e-04</td>\n      <td>VT</td>\n    </tr>\n    <tr>\n      <th>55</th>\n      <td>2.121141e-04</td>\n      <td>WY</td>\n    </tr>\n    <tr>\n      <th>8</th>\n      <td>1.451892e-04</td>\n      <td>AR</td>\n    </tr>\n    <tr>\n      <th>31</th>\n      <td>1.193525e-04</td>\n      <td>MT</td>\n    </tr>\n    <tr>\n      <th>46</th>\n      <td>1.714667e-05</td>\n      <td>SD</td>\n    </tr>\n    <tr>\n      <th>39</th>\n      <td>1.419368e-05</td>\n      <td>ND</td>\n    </tr>\n    <tr>\n      <th>6</th>\n      <td>3.392314e-07</td>\n      <td>AK</td>\n    </tr>\n    <tr>\n      <th>16</th>\n      <td>1.757958e-07</td>\n      <td>HI</td>\n    </tr>\n  </tbody>\n</table>\n</div>"
     },
     "metadata": {},
     "output_type": "execute_result",
     "execution_count": 42
    }
   ],
   "source": [
    "worst_drivers"
   ],
   "metadata": {
    "collapsed": false,
    "pycharm": {
     "name": "#%%\n",
     "is_executing": false
    }
   }
  },
  {
   "cell_type": "code",
   "execution_count": 3,
   "outputs": [
    {
     "data": {
      "text/plain": "{'geometry': {'type': 'Point', 'coordinates': [-82.831184, 39.92805900000001]},\n 'type': 'Feature',\n 'id': '2',\n 'properties': {'severity': 2.0}}"
     },
     "metadata": {},
     "output_type": "execute_result",
     "execution_count": 3
    }
   ],
   "source": [
    "# {\n",
    "#   \"type\": \"FeatureCollection\",\n",
    "#   \"features\": [\n",
    "#     {\n",
    "#       \"geometry\": {\n",
    "#         \"type\": \"Point\",\n",
    "#         \"coordinates\": [\n",
    "#           -73.8581124527,\n",
    "#           40.7177680369\n",
    "#         ]\n",
    "#       },\n",
    "#       \"type\": \"Feature\",\n",
    "#       \"id\": \"1\",\n",
    "#       \"properties\": {\n",
    "#         \"severity\" : \"1\"\n",
    "#       }\n",
    "#     },\n",
    "#     {\n",
    "#       \"geometry\": {\n",
    "#         \"type\": \"Point\",\n",
    "#         \"coordinates\": [\n",
    "#           -73.8582794081,\n",
    "#           40.671813559\n",
    "#         ]\n",
    "#       },\n",
    "#       \"type\": \"Feature\",\n",
    "#       \"id\": \"2\",\n",
    "#       \"properties\": {\n",
    "#         \"severity\": \"4\"\n",
    "#       }\n",
    "#     }\n",
    "#   ]\n",
    "# }\n",
    "\n",
    "\n",
    "\n",
    "#def crash_state(dataset,state_name):\n",
    "large_dict = {\n",
    "    \"type\": \"FeatureCollection\",\n",
    "    \"features\": []\n",
    "}\n",
    "\n",
    "\n",
    "def make_point(lat, long, severity):\n",
    "    point =  {\n",
    "          \"geometry\": {\n",
    "            \"type\": \"Poi\n",
    "              nt\",\n",
    "            \"coordinates\": [\n",
    "              long,\n",
    "              lat\n",
    "            ]\n",
    "          },\n",
    "          \"type\": \"Feature\",\n",
    "          \"id\": \"2\",\n",
    "          \"properties\": {\n",
    "            \"severity\": severity\n",
    "          }\n",
    "        }\n",
    "    return point\n",
    "\n",
    "full.columns\n",
    "all = full[[\"Start_Lat\", \"Start_Lng\", \"Severity\"]].apply(lambda row: make_point(row[0], row[1], row[2]), axis=1)\n",
    "all.iloc[1]\n",
    "# Goal: 3 map viewable questions\n",
    "# Goal: 2 extra data questions"
   ],
   "metadata": {
    "collapsed": false,
    "pycharm": {
     "name": "#%% Basic Data\n",
     "is_executing": false
    }
   }
  },
  {
   "cell_type": "code",
   "execution_count": 43,
   "outputs": [
    {
     "name": "stdout",
     "text": [
      "OH\n",
      "WV\n",
      "CA\n",
      "FL\n",
      "GA\n",
      "SC\n",
      "NE\n",
      "IA\n",
      "IL\n",
      "MO\n",
      "WI\n",
      "IN\n",
      "MI\n",
      "NJ\n",
      "NY\n",
      "CT\n",
      "MA\n",
      "RI\n",
      "NH\n",
      "PA\n",
      "KY\n",
      "MD\n",
      "VA\n",
      "DC\n",
      "DE\n",
      "TX\n",
      "WA\n",
      "OR\n",
      "AL\n",
      "NC\n",
      "MN\n",
      "OK\n",
      "LA\n",
      "TN\n",
      "UT\n",
      "CO\n",
      "AZ\n",
      "NV\n",
      "KS\n",
      "MS\n",
      "NM\n",
      "ME\n",
      "AR\n",
      "WY\n",
      "VT\n",
      "ID\n",
      "ND\n",
      "MT\n",
      "SD\n"
     ],
     "output_type": "stream"
    }
   ],
   "source": [
    "# def generate_state_data():\n",
    "#     \"\"\"\n",
    "#     INPUT: A fully populated table with all accident data\n",
    "#     OUTPUT: Fills \"state_crash_viz\" with 50 json files containing all the points for each state\n",
    "#     \"\"\"\n",
    "all_states = list(full.State.unique())\n",
    "all = pd.DataFrame(full[[\"Start_Lat\", \"Start_Lng\", \"Severity\"]]\\\n",
    "    .apply(lambda row: make_point(row[0], row[1], row[2]), axis=1))\n",
    "all[\"State\"] = full.State\n",
    "\n",
    "for state in all[\"State\"].unique():\n",
    "    print(state)\n",
    "    st_data = all[all.State == state]\n",
    "    st_dict = {\n",
    "        \"type\": \"FeatureCollection\",\n",
    "    }\n",
    "    feat = []\n",
    "    for p in list(st_data[0]):\n",
    "        feat.append(p)\n",
    "    st_dict[\"features\"] = feat\n",
    "    \n",
    "    with open(f'./state_crash_viz/{state}.json', 'w') as fp:\n",
    "        json.dump(st_dict, fp)\n",
    "        \n",
    "    \n",
    "    \n",
    "\n",
    "    \n"
   ],
   "metadata": {
    "collapsed": false,
    "pycharm": {
     "name": "#%%\n",
     "is_executing": false
    }
   }
  }
 ],
 "metadata": {
  "kernelspec": {
   "display_name": "Python 3",
   "language": "python",
   "name": "python3"
  },
  "language_info": {
   "codemirror_mode": {
    "name": "ipython",
    "version": 2
   },
   "file_extension": ".py",
   "mimetype": "text/x-python",
   "name": "python",
   "nbconvert_exporter": "python",
   "pygments_lexer": "ipython2",
   "version": "2.7.6"
  },
  "pycharm": {
   "stem_cell": {
    "cell_type": "raw",
    "source": [],
    "metadata": {
     "collapsed": false
    }
   }
  }
 },
 "nbformat": 4,
 "nbformat_minor": 0
}